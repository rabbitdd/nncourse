{
 "cells": [
  {
   "cell_type": "code",
   "id": "initial_id",
   "metadata": {
    "collapsed": true,
    "ExecuteTime": {
     "end_time": "2025-07-16T17:31:13.055639Z",
     "start_time": "2025-07-16T17:31:13.049583Z"
    }
   },
   "source": [
    "from micrograd.engine import Value\n",
    "\n",
    "a = Value(-4.0)\n",
    "b = Value(2.0)\n",
    "c = a + b\n",
    "d = a * b + b**3\n",
    "c += c + 1\n",
    "c += 1 + c + (-a)\n",
    "d += d * 2 + (b + a).relu()\n",
    "d += 3 * d + (b - a).relu()\n",
    "e = c - d\n",
    "f = e**2\n",
    "g = f / 2.0\n",
    "g += 10.0 / f\n",
    "print(f'{g.data:.4f}') # prints 24.7041, the outcome of this forward pass\n",
    "g.backward()\n",
    "print(f'{a.grad:.4f}') # prints 138.8338, i.e. the numerical value of dg/da\n",
    "print(f'{b.grad:.4f}') # prints 645.5773, i.e. the numerical value of dg/db"
   ],
   "outputs": [
    {
     "name": "stdout",
     "output_type": "stream",
     "text": [
      "24.7041\n",
      "138.8338\n",
      "645.5773\n"
     ]
    }
   ],
   "execution_count": 1
  },
  {
   "metadata": {},
   "cell_type": "code",
   "outputs": [],
   "execution_count": null,
   "source": "",
   "id": "4871c65f8b137848"
  }
 ],
 "metadata": {
  "kernelspec": {
   "display_name": "Python 3",
   "language": "python",
   "name": "python3"
  },
  "language_info": {
   "codemirror_mode": {
    "name": "ipython",
    "version": 2
   },
   "file_extension": ".py",
   "mimetype": "text/x-python",
   "name": "python",
   "nbconvert_exporter": "python",
   "pygments_lexer": "ipython2",
   "version": "2.7.6"
  }
 },
 "nbformat": 4,
 "nbformat_minor": 5
}
